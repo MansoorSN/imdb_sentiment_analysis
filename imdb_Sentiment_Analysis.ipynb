{
  "nbformat": 4,
  "nbformat_minor": 0,
  "metadata": {
    "colab": {
      "name": "imdb_Sentiment_Analysis.ipynb",
      "provenance": [],
      "collapsed_sections": []
    },
    "kernelspec": {
      "name": "python3",
      "display_name": "Python 3"
    }
  },
  "cells": [
    {
      "cell_type": "code",
      "metadata": {
        "id": "mxRM3NDbO6kP"
      },
      "source": [
        "import tensorflow as tf\n",
        "from tensorflow import keras\n",
        "from tensorflow.keras.preprocessing.text import Tokenizer\n",
        "from tensorflow.keras.preprocessing.sequence import pad_sequences\n",
        "import tensorflow_datasets as tfds\n",
        "import numpy as np"
      ],
      "execution_count": 9,
      "outputs": []
    },
    {
      "cell_type": "code",
      "metadata": {
        "id": "3BpcFcb0PII_"
      },
      "source": [
        "imdb,info=tfds.load(\"imdb_reviews\", with_info=True, as_supervised=True)\n",
        "\n",
        "train, test=imdb['train'], imdb['test']\n",
        "\n",
        "training_sentences=[]\n",
        "training_labels=[]\n",
        "\n",
        "testing_sentences=[]\n",
        "testing_labels=[]\n",
        "\n",
        "\n",
        "for s,l in train:\n",
        "  training_sentences.append(str(s.numpy()))\n",
        "  training_labels.append(l.numpy())\n",
        "\n",
        "for s,l in test:\n",
        "  testing_sentences.append(str(s.numpy()))\n",
        "  testing_labels.append(l.numpy())\n",
        "\n",
        "training_labels_final=np.array(training_labels)\n",
        "testing_labels_final=np.array(testing_labels)\n"
      ],
      "execution_count": 10,
      "outputs": []
    },
    {
      "cell_type": "code",
      "metadata": {
        "id": "w4CaO0Gisca0",
        "outputId": "aacb6b64-b4ab-42a8-f973-4f96dc74bc60",
        "colab": {
          "base_uri": "https://localhost:8080/",
          "height": 105
        }
      },
      "source": [
        "training_sentences[0]"
      ],
      "execution_count": 19,
      "outputs": [
        {
          "output_type": "execute_result",
          "data": {
            "application/vnd.google.colaboratory.intrinsic+json": {
              "type": "string"
            },
            "text/plain": [
              "'b\"This was an absolutely terrible movie. Don\\'t be lured in by Christopher Walken or Michael Ironside. Both are great actors, but this must simply be their worst role in history. Even their great acting could not redeem this movie\\'s ridiculous storyline. This movie is an early nineties US propaganda piece. The most pathetic scenes were those when the Columbian rebels were making their cases for revolutions. Maria Conchita Alonso appeared phony, and her pseudo-love affair with Walken was nothing but a pathetic emotional plug in a movie that was devoid of any real meaning. I am disappointed that there are movies like this, ruining actor\\'s like Christopher Walken\\'s good name. I could barely sit through it.\"'"
            ]
          },
          "metadata": {
            "tags": []
          },
          "execution_count": 19
        }
      ]
    },
    {
      "cell_type": "code",
      "metadata": {
        "id": "DXhlh2KcRE3G"
      },
      "source": [
        "vocab_size = 10000\n",
        "embedding_dim = 16\n",
        "max_length = 120\n",
        "trunc_type='post'\n",
        "oov_tok = \"<OOV>\"\n",
        "\n",
        "\n",
        "tokenizer=Tokenizer(num_words=vocab_size, oov_token=oov_tok)\n",
        "tokenizer.fit_on_texts(training_sentences)\n",
        "word_index=tokenizer.word_index\n",
        "\n",
        "sequences=tokenizer.texts_to_sequences(training_sentences)\n",
        "padded=pad_sequences(sequences, maxlen=max_length, truncating=trunc_type)\n",
        "\n",
        "testing_sequences=tokenizer.texts_to_sequences(testing_sentences)\n",
        "testing_padded=pad_sequences(testing_sequences,maxlen=max_length)"
      ],
      "execution_count": 11,
      "outputs": []
    },
    {
      "cell_type": "code",
      "metadata": {
        "id": "ZqMB7I9Ks-2m",
        "outputId": "cecc7be3-6a48-45d9-ecf5-4fcab18ccea1",
        "colab": {
          "base_uri": "https://localhost:8080/"
        }
      },
      "source": [
        "len(training_sentences)"
      ],
      "execution_count": 31,
      "outputs": [
        {
          "output_type": "execute_result",
          "data": {
            "text/plain": [
              "25000"
            ]
          },
          "metadata": {
            "tags": []
          },
          "execution_count": 31
        }
      ]
    },
    {
      "cell_type": "code",
      "metadata": {
        "id": "WD2i0ChhYXJw",
        "outputId": "c0cf18bb-f8c7-4567-880e-7e61eb7a82b0",
        "colab": {
          "base_uri": "https://localhost:8080/"
        }
      },
      "source": [
        "model = tf.keras.Sequential([\n",
        "    tf.keras.layers.Embedding(vocab_size, embedding_dim, input_length=max_length),\n",
        "    tf.keras.layers.Bidirectional(tf.keras.layers.GRU(32)),\n",
        "    tf.keras.layers.Dense(6, activation='relu'),\n",
        "    tf.keras.layers.Dense(1, activation='sigmoid')\n",
        "])\n",
        "model.compile(loss='binary_crossentropy',optimizer='adam',metrics=['accuracy'])\n",
        "model.summary()\n"
      ],
      "execution_count": 12,
      "outputs": [
        {
          "output_type": "stream",
          "text": [
            "Model: \"sequential_1\"\n",
            "_________________________________________________________________\n",
            "Layer (type)                 Output Shape              Param #   \n",
            "=================================================================\n",
            "embedding_1 (Embedding)      (None, 120, 16)           160000    \n",
            "_________________________________________________________________\n",
            "bidirectional_1 (Bidirection (None, 64)                9600      \n",
            "_________________________________________________________________\n",
            "dense_2 (Dense)              (None, 6)                 390       \n",
            "_________________________________________________________________\n",
            "dense_3 (Dense)              (None, 1)                 7         \n",
            "=================================================================\n",
            "Total params: 169,997\n",
            "Trainable params: 169,997\n",
            "Non-trainable params: 0\n",
            "_________________________________________________________________\n"
          ],
          "name": "stdout"
        }
      ]
    },
    {
      "cell_type": "code",
      "metadata": {
        "id": "aTojkYXwYZ1d",
        "outputId": "bd36a2cc-756f-497c-cae9-740d01b29c10",
        "colab": {
          "base_uri": "https://localhost:8080/"
        }
      },
      "source": [
        "num_epochs = 50\n",
        "history = model.fit(padded, training_labels_final, epochs=num_epochs, validation_data=(testing_padded, testing_labels_final))"
      ],
      "execution_count": 13,
      "outputs": [
        {
          "output_type": "stream",
          "text": [
            "Epoch 1/50\n",
            "782/782 [==============================] - 65s 83ms/step - loss: 0.5785 - accuracy: 0.6716 - val_loss: 0.3955 - val_accuracy: 0.8265\n",
            "Epoch 2/50\n",
            "782/782 [==============================] - 64s 82ms/step - loss: 0.3439 - accuracy: 0.8564 - val_loss: 0.3639 - val_accuracy: 0.8380\n",
            "Epoch 3/50\n",
            "782/782 [==============================] - 64s 82ms/step - loss: 0.2675 - accuracy: 0.8967 - val_loss: 0.3644 - val_accuracy: 0.8471\n",
            "Epoch 4/50\n",
            "782/782 [==============================] - 65s 83ms/step - loss: 0.2182 - accuracy: 0.9208 - val_loss: 0.4202 - val_accuracy: 0.8266\n",
            "Epoch 5/50\n",
            "782/782 [==============================] - 65s 84ms/step - loss: 0.1780 - accuracy: 0.9391 - val_loss: 0.4472 - val_accuracy: 0.8360\n",
            "Epoch 6/50\n",
            "782/782 [==============================] - 65s 83ms/step - loss: 0.1469 - accuracy: 0.9516 - val_loss: 0.5349 - val_accuracy: 0.8250\n",
            "Epoch 7/50\n",
            "782/782 [==============================] - 65s 84ms/step - loss: 0.1096 - accuracy: 0.9662 - val_loss: 0.5378 - val_accuracy: 0.8268\n",
            "Epoch 8/50\n",
            "782/782 [==============================] - 65s 84ms/step - loss: 0.0897 - accuracy: 0.9713 - val_loss: 0.6316 - val_accuracy: 0.8183\n",
            "Epoch 9/50\n",
            "782/782 [==============================] - 65s 84ms/step - loss: 0.0653 - accuracy: 0.9804 - val_loss: 0.7091 - val_accuracy: 0.8200\n",
            "Epoch 10/50\n",
            "782/782 [==============================] - 65s 83ms/step - loss: 0.0500 - accuracy: 0.9847 - val_loss: 0.7093 - val_accuracy: 0.8194\n",
            "Epoch 11/50\n",
            "782/782 [==============================] - 65s 84ms/step - loss: 0.0344 - accuracy: 0.9906 - val_loss: 0.8528 - val_accuracy: 0.8123\n",
            "Epoch 12/50\n",
            "782/782 [==============================] - 65s 83ms/step - loss: 0.0417 - accuracy: 0.9863 - val_loss: 0.8852 - val_accuracy: 0.8114\n",
            "Epoch 13/50\n",
            "782/782 [==============================] - 65s 84ms/step - loss: 0.0251 - accuracy: 0.9918 - val_loss: 0.9743 - val_accuracy: 0.8081\n",
            "Epoch 14/50\n",
            "782/782 [==============================] - 65s 83ms/step - loss: 0.0195 - accuracy: 0.9943 - val_loss: 1.1275 - val_accuracy: 0.7951\n",
            "Epoch 15/50\n",
            "782/782 [==============================] - 65s 84ms/step - loss: 0.0156 - accuracy: 0.9956 - val_loss: 1.1500 - val_accuracy: 0.8061\n",
            "Epoch 16/50\n",
            "782/782 [==============================] - 65s 83ms/step - loss: 0.0137 - accuracy: 0.9958 - val_loss: 1.0587 - val_accuracy: 0.8124\n",
            "Epoch 17/50\n",
            "782/782 [==============================] - 65s 83ms/step - loss: 0.0141 - accuracy: 0.9957 - val_loss: 1.0138 - val_accuracy: 0.8047\n",
            "Epoch 18/50\n",
            "782/782 [==============================] - 65s 83ms/step - loss: 0.0149 - accuracy: 0.9954 - val_loss: 1.0740 - val_accuracy: 0.8079\n",
            "Epoch 19/50\n",
            "782/782 [==============================] - 65s 83ms/step - loss: 0.0075 - accuracy: 0.9980 - val_loss: 1.1517 - val_accuracy: 0.8077\n",
            "Epoch 20/50\n",
            "782/782 [==============================] - 65s 84ms/step - loss: 0.0115 - accuracy: 0.9963 - val_loss: 1.2272 - val_accuracy: 0.8128\n",
            "Epoch 21/50\n",
            "782/782 [==============================] - 65s 83ms/step - loss: 0.0091 - accuracy: 0.9972 - val_loss: 1.2550 - val_accuracy: 0.8060\n",
            "Epoch 22/50\n",
            "782/782 [==============================] - 65s 83ms/step - loss: 0.0078 - accuracy: 0.9977 - val_loss: 1.3555 - val_accuracy: 0.8056\n",
            "Epoch 23/50\n",
            "782/782 [==============================] - 65s 83ms/step - loss: 0.0073 - accuracy: 0.9976 - val_loss: 1.2879 - val_accuracy: 0.8138\n",
            "Epoch 24/50\n",
            "782/782 [==============================] - 65s 83ms/step - loss: 0.0059 - accuracy: 0.9979 - val_loss: 1.4038 - val_accuracy: 0.8102\n",
            "Epoch 25/50\n",
            "782/782 [==============================] - 65s 83ms/step - loss: 0.0058 - accuracy: 0.9981 - val_loss: 1.5072 - val_accuracy: 0.8062\n",
            "Epoch 26/50\n",
            "782/782 [==============================] - 65s 83ms/step - loss: 0.0076 - accuracy: 0.9975 - val_loss: 1.4153 - val_accuracy: 0.8040\n",
            "Epoch 27/50\n",
            "782/782 [==============================] - 68s 86ms/step - loss: 0.0053 - accuracy: 0.9982 - val_loss: 1.4351 - val_accuracy: 0.8040\n",
            "Epoch 28/50\n",
            "782/782 [==============================] - 66s 84ms/step - loss: 0.0057 - accuracy: 0.9982 - val_loss: 1.4354 - val_accuracy: 0.8056\n",
            "Epoch 29/50\n",
            "782/782 [==============================] - 65s 84ms/step - loss: 0.0032 - accuracy: 0.9989 - val_loss: 1.4057 - val_accuracy: 0.8087\n",
            "Epoch 30/50\n",
            "782/782 [==============================] - 66s 84ms/step - loss: 4.6862e-04 - accuracy: 0.9999 - val_loss: 1.5938 - val_accuracy: 0.8092\n",
            "Epoch 31/50\n",
            "782/782 [==============================] - 66s 84ms/step - loss: 6.4286e-05 - accuracy: 1.0000 - val_loss: 1.7229 - val_accuracy: 0.8090\n",
            "Epoch 32/50\n",
            "782/782 [==============================] - 66s 84ms/step - loss: 2.6229e-05 - accuracy: 1.0000 - val_loss: 1.7849 - val_accuracy: 0.8084\n",
            "Epoch 33/50\n",
            "782/782 [==============================] - 67s 85ms/step - loss: 1.7035e-05 - accuracy: 1.0000 - val_loss: 1.8493 - val_accuracy: 0.8088\n",
            "Epoch 34/50\n",
            "782/782 [==============================] - 66s 85ms/step - loss: 1.1392e-05 - accuracy: 1.0000 - val_loss: 1.9089 - val_accuracy: 0.8087\n",
            "Epoch 35/50\n",
            "782/782 [==============================] - 66s 84ms/step - loss: 7.5360e-06 - accuracy: 1.0000 - val_loss: 1.9854 - val_accuracy: 0.8090\n",
            "Epoch 36/50\n",
            "782/782 [==============================] - 65s 83ms/step - loss: 5.0622e-06 - accuracy: 1.0000 - val_loss: 2.0445 - val_accuracy: 0.8087\n",
            "Epoch 37/50\n",
            "782/782 [==============================] - 65s 83ms/step - loss: 3.2940e-06 - accuracy: 1.0000 - val_loss: 2.1178 - val_accuracy: 0.8091\n",
            "Epoch 38/50\n",
            "782/782 [==============================] - 66s 84ms/step - loss: 2.1597e-06 - accuracy: 1.0000 - val_loss: 2.1896 - val_accuracy: 0.8088\n",
            "Epoch 39/50\n",
            "782/782 [==============================] - 66s 84ms/step - loss: 1.4049e-06 - accuracy: 1.0000 - val_loss: 2.2628 - val_accuracy: 0.8088\n",
            "Epoch 40/50\n",
            "782/782 [==============================] - 66s 84ms/step - loss: 9.0847e-07 - accuracy: 1.0000 - val_loss: 2.3417 - val_accuracy: 0.8082\n",
            "Epoch 41/50\n",
            "782/782 [==============================] - 65s 84ms/step - loss: 5.9058e-07 - accuracy: 1.0000 - val_loss: 2.4187 - val_accuracy: 0.8080\n",
            "Epoch 42/50\n",
            "782/782 [==============================] - 65s 83ms/step - loss: 3.8598e-07 - accuracy: 1.0000 - val_loss: 2.4857 - val_accuracy: 0.8081\n",
            "Epoch 43/50\n",
            "782/782 [==============================] - 65s 83ms/step - loss: 2.4993e-07 - accuracy: 1.0000 - val_loss: 2.5635 - val_accuracy: 0.8078\n",
            "Epoch 44/50\n",
            "782/782 [==============================] - 65s 83ms/step - loss: 1.6372e-07 - accuracy: 1.0000 - val_loss: 2.6337 - val_accuracy: 0.8077\n",
            "Epoch 45/50\n",
            "782/782 [==============================] - 65s 83ms/step - loss: 1.0686e-07 - accuracy: 1.0000 - val_loss: 2.7096 - val_accuracy: 0.8082\n",
            "Epoch 46/50\n",
            "782/782 [==============================] - 65s 83ms/step - loss: 7.0785e-08 - accuracy: 1.0000 - val_loss: 2.7784 - val_accuracy: 0.8078\n",
            "Epoch 47/50\n",
            "782/782 [==============================] - 65s 83ms/step - loss: 4.7004e-08 - accuracy: 1.0000 - val_loss: 2.8498 - val_accuracy: 0.8076\n",
            "Epoch 48/50\n",
            "782/782 [==============================] - 65s 83ms/step - loss: 3.1514e-08 - accuracy: 1.0000 - val_loss: 2.9202 - val_accuracy: 0.8077\n",
            "Epoch 49/50\n",
            "782/782 [==============================] - 65s 83ms/step - loss: 2.1352e-08 - accuracy: 1.0000 - val_loss: 2.9931 - val_accuracy: 0.8074\n",
            "Epoch 50/50\n",
            "782/782 [==============================] - 65s 83ms/step - loss: 1.4751e-08 - accuracy: 1.0000 - val_loss: 3.0506 - val_accuracy: 0.8072\n"
          ],
          "name": "stdout"
        }
      ]
    },
    {
      "cell_type": "code",
      "metadata": {
        "id": "0RFaIxHXYdEB",
        "outputId": "ee25199e-ef73-446a-bc4d-33bb591f3b8a",
        "colab": {
          "base_uri": "https://localhost:8080/"
        }
      },
      "source": [
        "#here i picked a random comment for the movie Tenet.\n",
        "\n",
        "t=\"The whole movie is confusing. We couldn't understand what half the script was because of the mumbling, accents, fast talking, background noise etc. It's bad. I thought maybe it was just me, but my husband said the same thing afterwards, and now I'm reading on here other reviews talking about that as well.\"\n",
        "t=t.split('\\n')\n",
        "seq=tokenizer.texts_to_sequences(t)\n",
        "pad=pad_sequences(seq, maxlen=max_length, truncating=trunc_type)\n",
        "\n",
        "pred=model.predict(pad)\n",
        "np.round(pred)\n"
      ],
      "execution_count": 42,
      "outputs": [
        {
          "output_type": "execute_result",
          "data": {
            "text/plain": [
              "array([[0.]], dtype=float32)"
            ]
          },
          "metadata": {
            "tags": []
          },
          "execution_count": 42
        }
      ]
    },
    {
      "cell_type": "code",
      "metadata": {
        "id": "OvY7m8-2r81H",
        "outputId": "951db76f-f96a-4e6e-89b6-7ecac5cf1624",
        "colab": {
          "base_uri": "https://localhost:8080/"
        }
      },
      "source": [
        "#We can sse that the predcited sentiment is zero, which means it sia negative review."
      ],
      "execution_count": 16,
      "outputs": [
        {
          "output_type": "execute_result",
          "data": {
            "text/plain": [
              "(403, 120)"
            ]
          },
          "metadata": {
            "tags": []
          },
          "execution_count": 16
        }
      ]
    },
    {
      "cell_type": "code",
      "metadata": {
        "id": "19_hQpZqrwt5",
        "outputId": "5b93515f-cae8-4d8b-874f-4315027e07ec",
        "colab": {
          "base_uri": "https://localhost:8080/"
        }
      },
      "source": [
        "len(t)"
      ],
      "execution_count": 17,
      "outputs": [
        {
          "output_type": "execute_result",
          "data": {
            "text/plain": [
              "403"
            ]
          },
          "metadata": {
            "tags": []
          },
          "execution_count": 17
        }
      ]
    },
    {
      "cell_type": "code",
      "metadata": {
        "id": "T2WuMyg8sN9D",
        "outputId": "7e6841f5-108a-4874-f7d9-16b24f8ff1a9",
        "colab": {
          "base_uri": "https://localhost:8080/"
        }
      },
      "source": [
        "len(seq)"
      ],
      "execution_count": 23,
      "outputs": [
        {
          "output_type": "execute_result",
          "data": {
            "text/plain": [
              "402"
            ]
          },
          "metadata": {
            "tags": []
          },
          "execution_count": 23
        }
      ]
    },
    {
      "cell_type": "code",
      "metadata": {
        "id": "KzxVNLq7s1Ti"
      },
      "source": [
        ""
      ],
      "execution_count": null,
      "outputs": []
    }
  ]
}